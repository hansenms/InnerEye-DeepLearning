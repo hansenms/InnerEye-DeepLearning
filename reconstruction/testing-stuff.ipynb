{
 "metadata": {
  "language_info": {
   "codemirror_mode": {
    "name": "ipython",
    "version": 3
   },
   "file_extension": ".py",
   "mimetype": "text/x-python",
   "name": "python",
   "nbconvert_exporter": "python",
   "pygments_lexer": "ipython3",
   "version": "3.7.3-final"
  },
  "orig_nbformat": 2,
  "kernelspec": {
   "name": "Python 3.7.3 64-bit ('InnerEye': conda)",
   "display_name": "Python 3.7.3 64-bit ('InnerEye': conda)",
   "metadata": {
    "interpreter": {
     "hash": "3f9bd1c42cba7d1c3076a1aea9c6f6d63594be847fa85c94617cd8a0aaeaba8e"
    }
   }
  }
 },
 "nbformat": 4,
 "nbformat_minor": 2,
 "cells": [
  {
   "cell_type": "code",
   "execution_count": 1,
   "metadata": {},
   "outputs": [],
   "source": [
    "%matplotlib inline\n",
    "import torch\n",
    "import matplotlib.pyplot as plt\n",
    "import math\n",
    "import numpy as np\n",
    "from typing import Tuple"
   ]
  },
  {
   "cell_type": "code",
   "execution_count": 6,
   "metadata": {},
   "outputs": [],
   "source": [
    "arr1 = np.random.rand(128,128) + 1j*np.random.rand(128,128)\n",
    "arr2 = np.random.rand(128,128) + 1j*np.random.rand(128,128)"
   ]
  },
  {
   "cell_type": "code",
   "execution_count": 7,
   "metadata": {},
   "outputs": [],
   "source": [
    "ten1 = torch.from_numpy(arr1)\n",
    "ten2 = torch.from_numpy(arr2)\n"
   ]
  },
  {
   "cell_type": "code",
   "execution_count": 8,
   "metadata": {},
   "outputs": [
    {
     "output_type": "execute_result",
     "data": {
      "text/plain": [
       "tensor([[0.+0.j, 0.+0.j, 0.+0.j,  ..., 0.+0.j, 0.+0.j, 0.+0.j],\n",
       "        [0.+0.j, 0.+0.j, 0.+0.j,  ..., 0.+0.j, 0.+0.j, 0.+0.j],\n",
       "        [0.+0.j, 0.+0.j, 0.+0.j,  ..., 0.+0.j, 0.+0.j, 0.+0.j],\n",
       "        ...,\n",
       "        [0.+0.j, 0.+0.j, 0.+0.j,  ..., 0.+0.j, 0.+0.j, 0.+0.j],\n",
       "        [0.+0.j, 0.+0.j, 0.+0.j,  ..., 0.+0.j, 0.+0.j, 0.+0.j],\n",
       "        [0.+0.j, 0.+0.j, 0.+0.j,  ..., 0.+0.j, 0.+0.j, 0.+0.j]])"
      ]
     },
     "metadata": {},
     "execution_count": 8
    }
   ],
   "source": [
    "torch.zeros((128,128),dtype=torch.cfloat)"
   ]
  },
  {
   "cell_type": "code",
   "execution_count": 16,
   "metadata": {},
   "outputs": [
    {
     "output_type": "execute_result",
     "data": {
      "text/plain": [
       "tensor([[0.2118, 0.7386, 1.0089,  ..., 0.2318, 0.8225, 0.4918],\n",
       "        [0.7821, 1.2116, 0.5172,  ..., 0.6790, 0.2371, 0.3081],\n",
       "        [0.7680, 0.6770, 0.1022,  ..., 1.1667, 0.3258, 0.9719],\n",
       "        ...,\n",
       "        [0.2577, 0.2949, 0.4128,  ..., 0.3187, 0.5773, 1.1858],\n",
       "        [0.9380, 0.0839, 0.7225,  ..., 0.8312, 0.9727, 0.6477],\n",
       "        [0.9012, 0.7513, 0.5390,  ..., 0.2594, 0.4395, 0.3805]],\n",
       "       dtype=torch.float64)"
      ]
     },
     "metadata": {},
     "execution_count": 16
    }
   ],
   "source": [
    "(ten2*ten1).abs()"
   ]
  },
  {
   "cell_type": "code",
   "execution_count": 46,
   "metadata": {},
   "outputs": [
    {
     "output_type": "execute_result",
     "data": {
      "text/plain": [
       "tensor([[-1.0000, -1.0000, -1.0000,  ..., -1.0000, -1.0000, -1.0000],\n",
       "        [-0.9844, -0.9844, -0.9844,  ..., -0.9844, -0.9844, -0.9844],\n",
       "        [-0.9688, -0.9688, -0.9688,  ..., -0.9688, -0.9688, -0.9688],\n",
       "        ...,\n",
       "        [ 0.9531,  0.9531,  0.9531,  ...,  0.9531,  0.9531,  0.9531],\n",
       "        [ 0.9688,  0.9688,  0.9688,  ...,  0.9688,  0.9688,  0.9688],\n",
       "        [ 0.9844,  0.9844,  0.9844,  ...,  0.9844,  0.9844,  0.9844]])"
      ]
     },
     "metadata": {},
     "execution_count": 46
    }
   ],
   "source": [
    "matrix_size = 128\n",
    "x_co = torch.Tensor([x-matrix_size//2 for x in range(matrix_size)]).unsqueeze(0).repeat(matrix_size,1)/(matrix_size//2)\n",
    "y_co = torch.Tensor([y-matrix_size//2 for y in range(matrix_size)]).unsqueeze(-1).repeat(1,matrix_size)/(matrix_size//2)\n",
    "y_co"
   ]
  },
  {
   "cell_type": "code",
   "execution_count": 12,
   "metadata": {},
   "outputs": [],
   "source": [
    "def generate_birdcage_sensitivities(matrix_size: int = 256, number_of_coils: int = 8, relative_radius: float = 1.5, rotation: float = 0.0, normalize: bool = True) -> torch.Tensor:\n",
    "    \"\"\" \n",
    "    Generates a PyTorch complex tensor with birdcage coil sensitivites.\n",
    "\n",
    "    :param matrix_size: size of imaging matrix in pixels (default ``256``)\n",
    "    :param number_of_coils: Number of simulated coils (default ``8``)\n",
    "    :param relative_radius: Relative radius of birdcage (default ``1.5``)\n",
    "    :return torch.Tensor [Nc, Ny, Nx]\n",
    "\n",
    "    This function is heavily inspired by:\n",
    "\n",
    "        1. The mri_birdcage.m Matlab script in Jeff Fessler's IRT package: http://web.eecs.umich.edu/~fessler/code/\n",
    "        2. generate_birdcage_sensitivities function from ISMRMRD Python tools (https://github.com/ismrmrd/ismrmrd-python-tools)\n",
    "    \"\"\"\n",
    "\n",
    "    out = torch.zeros((number_of_coils,matrix_size,matrix_size), dtype=torch.cfloat)\n",
    "    x_coord = torch.Tensor([x-matrix_size//2 for x in range(matrix_size)]).unsqueeze(0).repeat(matrix_size,1)/(matrix_size//2)\n",
    "    y_coord = torch.Tensor([y-matrix_size//2 for y in range(matrix_size)]).unsqueeze(-1).repeat(1,matrix_size)/(matrix_size//2)\n",
    "\n",
    "    for c in range(0,number_of_coils):\n",
    "        coilx = relative_radius*math.cos(c*(2*math.pi/number_of_coils)+rotation)\n",
    "        coily = relative_radius*math.sin(c*(2*math.pi/number_of_coils)+rotation)\n",
    "        coil_phase = -c*(2*math.pi/number_of_coils)\n",
    "        y_co = y_coord - coily\n",
    "        x_co = x_coord - coilx\n",
    "        rr = torch.sqrt(x_co**2 + y_co**2)\n",
    "        phi = torch.atan2(x_co,-y_co) + coil_phase\n",
    "        out[c,...] = 1/rr * torch.exp(1j*phi)\n",
    "        \n",
    "    if normalize:\n",
    "         rss = torch.sqrt(torch.sum(torch.abs(out) ** 2, 0))\n",
    "         out = out / rss.unsqueeze(0)\n",
    "\n",
    "    return out"
   ]
  },
  {
   "cell_type": "code",
   "execution_count": 13,
   "metadata": {},
   "outputs": [],
   "source": [
    "coils = generate_birdcage_sensitivities(128)"
   ]
  },
  {
   "cell_type": "code",
   "execution_count": 14,
   "metadata": {},
   "outputs": [
    {
     "output_type": "execute_result",
     "data": {
      "text/plain": [
       "<matplotlib.image.AxesImage at 0x7f2bd936fa20>"
      ]
     },
     "metadata": {},
     "execution_count": 14
    },
    {
     "output_type": "display_data",
     "data": {
      "text/plain": "<Figure size 432x288 with 1 Axes>",
      "image/svg+xml": "<?xml version=\"1.0\" encoding=\"utf-8\" standalone=\"no\"?>\n<!DOCTYPE svg PUBLIC \"-//W3C//DTD SVG 1.1//EN\"\n  \"http://www.w3.org/Graphics/SVG/1.1/DTD/svg11.dtd\">\n<!-- Created with matplotlib (https://matplotlib.org/) -->\n<svg height=\"251.467969pt\" version=\"1.1\" viewBox=\"0 0 257.9275 251.467969\" width=\"257.9275pt\" xmlns=\"http://www.w3.org/2000/svg\" xmlns:xlink=\"http://www.w3.org/1999/xlink\">\n <metadata>\n  <rdf:RDF xmlns:cc=\"http://creativecommons.org/ns#\" xmlns:dc=\"http://purl.org/dc/elements/1.1/\" xmlns:rdf=\"http://www.w3.org/1999/02/22-rdf-syntax-ns#\">\n   <cc:Work>\n    <dc:type rdf:resource=\"http://purl.org/dc/dcmitype/StillImage\"/>\n    <dc:date>2020-10-17T15:25:09.172566</dc:date>\n    <dc:format>image/svg+xml</dc:format>\n    <dc:creator>\n     <cc:Agent>\n      <dc:title>Matplotlib v3.3.0, https://matplotlib.org/</dc:title>\n     </cc:Agent>\n    </dc:creator>\n   </cc:Work>\n  </rdf:RDF>\n </metadata>\n <defs>\n  <style type=\"text/css\">*{stroke-linecap:butt;stroke-linejoin:round;}</style>\n </defs>\n <g id=\"figure_1\">\n  <g id=\"patch_1\">\n   <path d=\"M 0 251.467969 \nL 257.9275 251.467969 \nL 257.9275 0 \nL 0 0 \nz\n\" style=\"fill:none;\"/>\n  </g>\n  <g id=\"axes_1\">\n   <g id=\"patch_2\">\n    <path d=\"M 33.2875 227.589844 \nL 250.7275 227.589844 \nL 250.7275 10.149844 \nL 33.2875 10.149844 \nz\n\" style=\"fill:#ffffff;\"/>\n   </g>\n   <g clip-path=\"url(#p8756267b3a)\">\n    <image height=\"218\" id=\"image15b7d031cd\" transform=\"scale(1 -1)translate(0 -218)\" width=\"218\" x=\"33.2875\" xlink:href=\"data:image/png;base64,\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\" y=\"-9.589844\"/>\n   </g>\n   <g id=\"matplotlib.axis_1\">\n    <g id=\"xtick_1\">\n     <g id=\"line2d_1\">\n      <defs>\n       <path d=\"M 0 0 \nL 0 3.5 \n\" id=\"m7d25857fa3\" style=\"stroke:#000000;stroke-width:0.8;\"/>\n      </defs>\n      <g>\n       <use style=\"stroke:#000000;stroke-width:0.8;\" x=\"34.136875\" xlink:href=\"#m7d25857fa3\" y=\"227.589844\"/>\n      </g>\n     </g>\n     <g id=\"text_1\">\n      <!-- 0 -->\n      <g transform=\"translate(30.955625 242.188281)scale(0.1 -0.1)\">\n       <defs>\n        <path d=\"M 31.78125 66.40625 \nQ 24.171875 66.40625 20.328125 58.90625 \nQ 16.5 51.421875 16.5 36.375 \nQ 16.5 21.390625 20.328125 13.890625 \nQ 24.171875 6.390625 31.78125 6.390625 \nQ 39.453125 6.390625 43.28125 13.890625 \nQ 47.125 21.390625 47.125 36.375 \nQ 47.125 51.421875 43.28125 58.90625 \nQ 39.453125 66.40625 31.78125 66.40625 \nz\nM 31.78125 74.21875 \nQ 44.046875 74.21875 50.515625 64.515625 \nQ 56.984375 54.828125 56.984375 36.375 \nQ 56.984375 17.96875 50.515625 8.265625 \nQ 44.046875 -1.421875 31.78125 -1.421875 \nQ 19.53125 -1.421875 13.0625 8.265625 \nQ 6.59375 17.96875 6.59375 36.375 \nQ 6.59375 54.828125 13.0625 64.515625 \nQ 19.53125 74.21875 31.78125 74.21875 \nz\n\" id=\"DejaVuSans-48\"/>\n       </defs>\n       <use xlink:href=\"#DejaVuSans-48\"/>\n      </g>\n     </g>\n    </g>\n    <g id=\"xtick_2\">\n     <g id=\"line2d_2\">\n      <g>\n       <use style=\"stroke:#000000;stroke-width:0.8;\" x=\"68.111875\" xlink:href=\"#m7d25857fa3\" y=\"227.589844\"/>\n      </g>\n     </g>\n     <g id=\"text_2\">\n      <!-- 20 -->\n      <g transform=\"translate(61.749375 242.188281)scale(0.1 -0.1)\">\n       <defs>\n        <path d=\"M 19.1875 8.296875 \nL 53.609375 8.296875 \nL 53.609375 0 \nL 7.328125 0 \nL 7.328125 8.296875 \nQ 12.9375 14.109375 22.625 23.890625 \nQ 32.328125 33.6875 34.8125 36.53125 \nQ 39.546875 41.84375 41.421875 45.53125 \nQ 43.3125 49.21875 43.3125 52.78125 \nQ 43.3125 58.59375 39.234375 62.25 \nQ 35.15625 65.921875 28.609375 65.921875 \nQ 23.96875 65.921875 18.8125 64.3125 \nQ 13.671875 62.703125 7.8125 59.421875 \nL 7.8125 69.390625 \nQ 13.765625 71.78125 18.9375 73 \nQ 24.125 74.21875 28.421875 74.21875 \nQ 39.75 74.21875 46.484375 68.546875 \nQ 53.21875 62.890625 53.21875 53.421875 \nQ 53.21875 48.921875 51.53125 44.890625 \nQ 49.859375 40.875 45.40625 35.40625 \nQ 44.1875 33.984375 37.640625 27.21875 \nQ 31.109375 20.453125 19.1875 8.296875 \nz\n\" id=\"DejaVuSans-50\"/>\n       </defs>\n       <use xlink:href=\"#DejaVuSans-50\"/>\n       <use x=\"63.623047\" xlink:href=\"#DejaVuSans-48\"/>\n      </g>\n     </g>\n    </g>\n    <g id=\"xtick_3\">\n     <g id=\"line2d_3\">\n      <g>\n       <use style=\"stroke:#000000;stroke-width:0.8;\" x=\"102.086875\" xlink:href=\"#m7d25857fa3\" y=\"227.589844\"/>\n      </g>\n     </g>\n     <g id=\"text_3\">\n      <!-- 40 -->\n      <g transform=\"translate(95.724375 242.188281)scale(0.1 -0.1)\">\n       <defs>\n        <path d=\"M 37.796875 64.3125 \nL 12.890625 25.390625 \nL 37.796875 25.390625 \nz\nM 35.203125 72.90625 \nL 47.609375 72.90625 \nL 47.609375 25.390625 \nL 58.015625 25.390625 \nL 58.015625 17.1875 \nL 47.609375 17.1875 \nL 47.609375 0 \nL 37.796875 0 \nL 37.796875 17.1875 \nL 4.890625 17.1875 \nL 4.890625 26.703125 \nz\n\" id=\"DejaVuSans-52\"/>\n       </defs>\n       <use xlink:href=\"#DejaVuSans-52\"/>\n       <use x=\"63.623047\" xlink:href=\"#DejaVuSans-48\"/>\n      </g>\n     </g>\n    </g>\n    <g id=\"xtick_4\">\n     <g id=\"line2d_4\">\n      <g>\n       <use style=\"stroke:#000000;stroke-width:0.8;\" x=\"136.061875\" xlink:href=\"#m7d25857fa3\" y=\"227.589844\"/>\n      </g>\n     </g>\n     <g id=\"text_4\">\n      <!-- 60 -->\n      <g transform=\"translate(129.699375 242.188281)scale(0.1 -0.1)\">\n       <defs>\n        <path d=\"M 33.015625 40.375 \nQ 26.375 40.375 22.484375 35.828125 \nQ 18.609375 31.296875 18.609375 23.390625 \nQ 18.609375 15.53125 22.484375 10.953125 \nQ 26.375 6.390625 33.015625 6.390625 \nQ 39.65625 6.390625 43.53125 10.953125 \nQ 47.40625 15.53125 47.40625 23.390625 \nQ 47.40625 31.296875 43.53125 35.828125 \nQ 39.65625 40.375 33.015625 40.375 \nz\nM 52.59375 71.296875 \nL 52.59375 62.3125 \nQ 48.875 64.0625 45.09375 64.984375 \nQ 41.3125 65.921875 37.59375 65.921875 \nQ 27.828125 65.921875 22.671875 59.328125 \nQ 17.53125 52.734375 16.796875 39.40625 \nQ 19.671875 43.65625 24.015625 45.921875 \nQ 28.375 48.1875 33.59375 48.1875 \nQ 44.578125 48.1875 50.953125 41.515625 \nQ 57.328125 34.859375 57.328125 23.390625 \nQ 57.328125 12.15625 50.6875 5.359375 \nQ 44.046875 -1.421875 33.015625 -1.421875 \nQ 20.359375 -1.421875 13.671875 8.265625 \nQ 6.984375 17.96875 6.984375 36.375 \nQ 6.984375 53.65625 15.1875 63.9375 \nQ 23.390625 74.21875 37.203125 74.21875 \nQ 40.921875 74.21875 44.703125 73.484375 \nQ 48.484375 72.75 52.59375 71.296875 \nz\n\" id=\"DejaVuSans-54\"/>\n       </defs>\n       <use xlink:href=\"#DejaVuSans-54\"/>\n       <use x=\"63.623047\" xlink:href=\"#DejaVuSans-48\"/>\n      </g>\n     </g>\n    </g>\n    <g id=\"xtick_5\">\n     <g id=\"line2d_5\">\n      <g>\n       <use style=\"stroke:#000000;stroke-width:0.8;\" x=\"170.036875\" xlink:href=\"#m7d25857fa3\" y=\"227.589844\"/>\n      </g>\n     </g>\n     <g id=\"text_5\">\n      <!-- 80 -->\n      <g transform=\"translate(163.674375 242.188281)scale(0.1 -0.1)\">\n       <defs>\n        <path d=\"M 31.78125 34.625 \nQ 24.75 34.625 20.71875 30.859375 \nQ 16.703125 27.09375 16.703125 20.515625 \nQ 16.703125 13.921875 20.71875 10.15625 \nQ 24.75 6.390625 31.78125 6.390625 \nQ 38.8125 6.390625 42.859375 10.171875 \nQ 46.921875 13.96875 46.921875 20.515625 \nQ 46.921875 27.09375 42.890625 30.859375 \nQ 38.875 34.625 31.78125 34.625 \nz\nM 21.921875 38.8125 \nQ 15.578125 40.375 12.03125 44.71875 \nQ 8.5 49.078125 8.5 55.328125 \nQ 8.5 64.0625 14.71875 69.140625 \nQ 20.953125 74.21875 31.78125 74.21875 \nQ 42.671875 74.21875 48.875 69.140625 \nQ 55.078125 64.0625 55.078125 55.328125 \nQ 55.078125 49.078125 51.53125 44.71875 \nQ 48 40.375 41.703125 38.8125 \nQ 48.828125 37.15625 52.796875 32.3125 \nQ 56.78125 27.484375 56.78125 20.515625 \nQ 56.78125 9.90625 50.3125 4.234375 \nQ 43.84375 -1.421875 31.78125 -1.421875 \nQ 19.734375 -1.421875 13.25 4.234375 \nQ 6.78125 9.90625 6.78125 20.515625 \nQ 6.78125 27.484375 10.78125 32.3125 \nQ 14.796875 37.15625 21.921875 38.8125 \nz\nM 18.3125 54.390625 \nQ 18.3125 48.734375 21.84375 45.5625 \nQ 25.390625 42.390625 31.78125 42.390625 \nQ 38.140625 42.390625 41.71875 45.5625 \nQ 45.3125 48.734375 45.3125 54.390625 \nQ 45.3125 60.0625 41.71875 63.234375 \nQ 38.140625 66.40625 31.78125 66.40625 \nQ 25.390625 66.40625 21.84375 63.234375 \nQ 18.3125 60.0625 18.3125 54.390625 \nz\n\" id=\"DejaVuSans-56\"/>\n       </defs>\n       <use xlink:href=\"#DejaVuSans-56\"/>\n       <use x=\"63.623047\" xlink:href=\"#DejaVuSans-48\"/>\n      </g>\n     </g>\n    </g>\n    <g id=\"xtick_6\">\n     <g id=\"line2d_6\">\n      <g>\n       <use style=\"stroke:#000000;stroke-width:0.8;\" x=\"204.011875\" xlink:href=\"#m7d25857fa3\" y=\"227.589844\"/>\n      </g>\n     </g>\n     <g id=\"text_6\">\n      <!-- 100 -->\n      <g transform=\"translate(194.468125 242.188281)scale(0.1 -0.1)\">\n       <defs>\n        <path d=\"M 12.40625 8.296875 \nL 28.515625 8.296875 \nL 28.515625 63.921875 \nL 10.984375 60.40625 \nL 10.984375 69.390625 \nL 28.421875 72.90625 \nL 38.28125 72.90625 \nL 38.28125 8.296875 \nL 54.390625 8.296875 \nL 54.390625 0 \nL 12.40625 0 \nz\n\" id=\"DejaVuSans-49\"/>\n       </defs>\n       <use xlink:href=\"#DejaVuSans-49\"/>\n       <use x=\"63.623047\" xlink:href=\"#DejaVuSans-48\"/>\n       <use x=\"127.246094\" xlink:href=\"#DejaVuSans-48\"/>\n      </g>\n     </g>\n    </g>\n    <g id=\"xtick_7\">\n     <g id=\"line2d_7\">\n      <g>\n       <use style=\"stroke:#000000;stroke-width:0.8;\" x=\"237.986875\" xlink:href=\"#m7d25857fa3\" y=\"227.589844\"/>\n      </g>\n     </g>\n     <g id=\"text_7\">\n      <!-- 120 -->\n      <g transform=\"translate(228.443125 242.188281)scale(0.1 -0.1)\">\n       <use xlink:href=\"#DejaVuSans-49\"/>\n       <use x=\"63.623047\" xlink:href=\"#DejaVuSans-50\"/>\n       <use x=\"127.246094\" xlink:href=\"#DejaVuSans-48\"/>\n      </g>\n     </g>\n    </g>\n   </g>\n   <g id=\"matplotlib.axis_2\">\n    <g id=\"ytick_1\">\n     <g id=\"line2d_8\">\n      <defs>\n       <path d=\"M 0 0 \nL -3.5 0 \n\" id=\"m58e21d1423\" style=\"stroke:#000000;stroke-width:0.8;\"/>\n      </defs>\n      <g>\n       <use style=\"stroke:#000000;stroke-width:0.8;\" x=\"33.2875\" xlink:href=\"#m58e21d1423\" y=\"10.999219\"/>\n      </g>\n     </g>\n     <g id=\"text_8\">\n      <!-- 0 -->\n      <g transform=\"translate(19.925 14.798438)scale(0.1 -0.1)\">\n       <use xlink:href=\"#DejaVuSans-48\"/>\n      </g>\n     </g>\n    </g>\n    <g id=\"ytick_2\">\n     <g id=\"line2d_9\">\n      <g>\n       <use style=\"stroke:#000000;stroke-width:0.8;\" x=\"33.2875\" xlink:href=\"#m58e21d1423\" y=\"44.974219\"/>\n      </g>\n     </g>\n     <g id=\"text_9\">\n      <!-- 20 -->\n      <g transform=\"translate(13.5625 48.773438)scale(0.1 -0.1)\">\n       <use xlink:href=\"#DejaVuSans-50\"/>\n       <use x=\"63.623047\" xlink:href=\"#DejaVuSans-48\"/>\n      </g>\n     </g>\n    </g>\n    <g id=\"ytick_3\">\n     <g id=\"line2d_10\">\n      <g>\n       <use style=\"stroke:#000000;stroke-width:0.8;\" x=\"33.2875\" xlink:href=\"#m58e21d1423\" y=\"78.949219\"/>\n      </g>\n     </g>\n     <g id=\"text_10\">\n      <!-- 40 -->\n      <g transform=\"translate(13.5625 82.748437)scale(0.1 -0.1)\">\n       <use xlink:href=\"#DejaVuSans-52\"/>\n       <use x=\"63.623047\" xlink:href=\"#DejaVuSans-48\"/>\n      </g>\n     </g>\n    </g>\n    <g id=\"ytick_4\">\n     <g id=\"line2d_11\">\n      <g>\n       <use style=\"stroke:#000000;stroke-width:0.8;\" x=\"33.2875\" xlink:href=\"#m58e21d1423\" y=\"112.924219\"/>\n      </g>\n     </g>\n     <g id=\"text_11\">\n      <!-- 60 -->\n      <g transform=\"translate(13.5625 116.723438)scale(0.1 -0.1)\">\n       <use xlink:href=\"#DejaVuSans-54\"/>\n       <use x=\"63.623047\" xlink:href=\"#DejaVuSans-48\"/>\n      </g>\n     </g>\n    </g>\n    <g id=\"ytick_5\">\n     <g id=\"line2d_12\">\n      <g>\n       <use style=\"stroke:#000000;stroke-width:0.8;\" x=\"33.2875\" xlink:href=\"#m58e21d1423\" y=\"146.899219\"/>\n      </g>\n     </g>\n     <g id=\"text_12\">\n      <!-- 80 -->\n      <g transform=\"translate(13.5625 150.698438)scale(0.1 -0.1)\">\n       <use xlink:href=\"#DejaVuSans-56\"/>\n       <use x=\"63.623047\" xlink:href=\"#DejaVuSans-48\"/>\n      </g>\n     </g>\n    </g>\n    <g id=\"ytick_6\">\n     <g id=\"line2d_13\">\n      <g>\n       <use style=\"stroke:#000000;stroke-width:0.8;\" x=\"33.2875\" xlink:href=\"#m58e21d1423\" y=\"180.874219\"/>\n      </g>\n     </g>\n     <g id=\"text_13\">\n      <!-- 100 -->\n      <g transform=\"translate(7.2 184.673438)scale(0.1 -0.1)\">\n       <use xlink:href=\"#DejaVuSans-49\"/>\n       <use x=\"63.623047\" xlink:href=\"#DejaVuSans-48\"/>\n       <use x=\"127.246094\" xlink:href=\"#DejaVuSans-48\"/>\n      </g>\n     </g>\n    </g>\n    <g id=\"ytick_7\">\n     <g id=\"line2d_14\">\n      <g>\n       <use style=\"stroke:#000000;stroke-width:0.8;\" x=\"33.2875\" xlink:href=\"#m58e21d1423\" y=\"214.849219\"/>\n      </g>\n     </g>\n     <g id=\"text_14\">\n      <!-- 120 -->\n      <g transform=\"translate(7.2 218.648438)scale(0.1 -0.1)\">\n       <use xlink:href=\"#DejaVuSans-49\"/>\n       <use x=\"63.623047\" xlink:href=\"#DejaVuSans-50\"/>\n       <use x=\"127.246094\" xlink:href=\"#DejaVuSans-48\"/>\n      </g>\n     </g>\n    </g>\n   </g>\n   <g id=\"patch_3\">\n    <path d=\"M 33.2875 227.589844 \nL 33.2875 10.149844 \n\" style=\"fill:none;stroke:#000000;stroke-linecap:square;stroke-linejoin:miter;stroke-width:0.8;\"/>\n   </g>\n   <g id=\"patch_4\">\n    <path d=\"M 250.7275 227.589844 \nL 250.7275 10.149844 \n\" style=\"fill:none;stroke:#000000;stroke-linecap:square;stroke-linejoin:miter;stroke-width:0.8;\"/>\n   </g>\n   <g id=\"patch_5\">\n    <path d=\"M 33.2875 227.589844 \nL 250.7275 227.589844 \n\" style=\"fill:none;stroke:#000000;stroke-linecap:square;stroke-linejoin:miter;stroke-width:0.8;\"/>\n   </g>\n   <g id=\"patch_6\">\n    <path d=\"M 33.2875 10.149844 \nL 250.7275 10.149844 \n\" style=\"fill:none;stroke:#000000;stroke-linecap:square;stroke-linejoin:miter;stroke-width:0.8;\"/>\n   </g>\n  </g>\n </g>\n <defs>\n  <clipPath id=\"p8756267b3a\">\n   <rect height=\"217.44\" width=\"217.44\" x=\"33.2875\" y=\"10.149844\"/>\n  </clipPath>\n </defs>\n</svg>\n",
      "image/png": "[encoded data removed]"
     },
     "metadata": {
      "needs_background": "light"
     }
    }
   ],
   "source": [
    "plt.imshow(coils[0,...].angle())"
   ]
  },
  {
   "cell_type": "code",
   "execution_count": 73,
   "metadata": {},
   "outputs": [],
   "source": [
    "def generate_birdcage_sensitivities_old(matrix_size = 256, number_of_coils = 8, relative_radius = 1.5, rotation = 0.0, normalize=True) -> np.ndarray:\n",
    "    \"\"\" \n",
    "    Generates birdcage coil sensitivites.\n",
    "\n",
    "    :param matrix_size: size of imaging matrix in pixels (default ``256``)\n",
    "    :param number_of_coils: Number of simulated coils (default ``8``)\n",
    "    :param relative_radius: Relative radius of birdcage (default ``1.5``)\n",
    "\n",
    "    This function is heavily inspired by the mri_birdcage.m Matlab script in\n",
    "    Jeff Fessler's IRT package: http://web.eecs.umich.edu/~fessler/code/\n",
    "    \"\"\"\n",
    "\n",
    "    out = np.zeros((number_of_coils,matrix_size,matrix_size),dtype=np.complex64)\n",
    "    for c in range(0,number_of_coils):\n",
    "        coilx = relative_radius*np.cos(c*(2*np.pi/number_of_coils)+rotation)\n",
    "        coily = relative_radius*np.sin(c*(2*np.pi/number_of_coils)+rotation)\n",
    "        coil_phase = -c*(2*np.pi/number_of_coils)\n",
    "\n",
    "        for y in range(0,matrix_size):\n",
    "            y_co = float(y-matrix_size/2)/float(matrix_size/2)-coily\n",
    "            for x in range(0,matrix_size):\n",
    "                x_co = float(x-matrix_size/2)/float(matrix_size/2)-coilx\n",
    "                rr = np.sqrt(x_co**2+y_co**2)\n",
    "                phi = np.arctan2(x_co, -y_co) + coil_phase\n",
    "                out[c,y,x] =  (1/rr) * np.exp(1j*phi)\n",
    "\n",
    "    if normalize:\n",
    "         rss = np.squeeze(np.sqrt(np.sum(abs(out) ** 2, 0)))\n",
    "         out = out / np.tile(rss,(number_of_coils,1,1))\n",
    "\n",
    "    return out"
   ]
  },
  {
   "cell_type": "code",
   "execution_count": 16,
   "metadata": {},
   "outputs": [],
   "source": [
    "coils1 = generate_birdcage_sensitivities(128,8,rotation=math.pi/2).numpy()\n",
    "# coils2 = generate_birdcage_sensitivities_old(128,8,rotation=math.pi/2)\n"
   ]
  },
  {
   "cell_type": "code",
   "execution_count": 75,
   "metadata": {},
   "outputs": [
    {
     "output_type": "execute_result",
     "data": {
      "text/plain": [
       "4.80548e-07"
      ]
     },
     "metadata": {},
     "execution_count": 75
    }
   ],
   "source": [
    "np.max(np.abs(coils1-coils2))"
   ]
  },
  {
   "cell_type": "code",
   "execution_count": 27,
   "metadata": {},
   "outputs": [],
   "source": [
    "def ifft(data: torch.Tensor, dim: Tuple[int, ...] = None) -> torch.Tensor:\n",
    "    \"\"\" \n",
    "    Computes the inverse Fourier transform from (k-space to image)\n",
    "\n",
    "    :param data: k-space data as complex torch.Tensor\n",
    "    :param dim: dimensions to transform\n",
    "    :returns: transformed data\n",
    "    \"\"\"\n",
    "\n",
    "    if not dim:\n",
    "        dim = tuple([x in range(data.ndim)])\n",
    "        # Since torch can only do up to 3 dimensions, we will pick the last 3\n",
    "        if len(dim) > 3:\n",
    "            dim = dim[-3:]\n",
    "    \n",
    "    # Torch ffts only support 1, 2, or 3 dimensions\n",
    "    assert len(dim) <= 3 and len(dim) >= 1\n",
    "\n",
    "    # ifftshift\n",
    "    shifts = [(data.shape[x] + 1) // 2 for x in dim]\n",
    "    data = torch.roll(data, shifts, dim)\n",
    "\n",
    "    # Permute, ifft, unpermute\n",
    "    permute_dim,unpermute_dim = get_fft_permute_dims(data.ndim, dim)\n",
    "    data = data.permute(permute_dim)\n",
    "    data = torch.view_as_complex(torch.ifft(torch.view_as_real(data), len(dim)))\n",
    "    data = data.permute(unpermute_dim)\n",
    "\n",
    "    # fftshift\n",
    "    shifts = [(data.shape[x]) // 2 for x in dim]\n",
    "    data = torch.roll(data, shifts, dim)\n",
    "\n",
    "    # Scaling\n",
    "    data *= torch.sqrt(torch.prod(torch.Tensor([data.shape[d] for d in dim])))\n",
    "\n",
    "    return data\n"
   ]
  },
  {
   "cell_type": "code",
   "execution_count": 28,
   "metadata": {},
   "outputs": [],
   "source": [
    "coils1trf = ifft(coils,(-2,-1))"
   ]
  },
  {
   "cell_type": "code",
   "execution_count": 81,
   "metadata": {},
   "outputs": [],
   "source": [
    "coils = generate_birdcage_sensitivities(128)"
   ]
  },
  {
   "cell_type": "code",
   "execution_count": 24,
   "metadata": {},
   "outputs": [
    {
     "output_type": "execute_result",
     "data": {
      "text/plain": [
       "tensor(128.)"
      ]
     },
     "metadata": {},
     "execution_count": 24
    }
   ],
   "source": [
    "dim=(-2,-1)\n",
    "torch.sqrt(torch.prod(torch.Tensor([coils.shape[d] for d in dim])))\n",
    "#scale = torch.sqrt(torch.Tensor([1.0*data.shape[-2]*data.shape[-3]]).to(data.device))\n"
   ]
  },
  {
   "cell_type": "code",
   "execution_count": 84,
   "metadata": {},
   "outputs": [
    {
     "output_type": "execute_result",
     "data": {
      "text/plain": [
       "(0, 1, 2)"
      ]
     },
     "metadata": {},
     "execution_count": 84
    }
   ],
   "source": [
    "dim"
   ]
  },
  {
   "cell_type": "code",
   "execution_count": 87,
   "metadata": {},
   "outputs": [],
   "source": [
    "shifts = [coils.shape[x] // 2 for x in dim]"
   ]
  },
  {
   "cell_type": "code",
   "execution_count": 88,
   "metadata": {},
   "outputs": [
    {
     "output_type": "execute_result",
     "data": {
      "text/plain": [
       "[4, 64, 64]"
      ]
     },
     "metadata": {},
     "execution_count": 88
    }
   ],
   "source": [
    "shifts"
   ]
  },
  {
   "cell_type": "code",
   "execution_count": 90,
   "metadata": {},
   "outputs": [
    {
     "output_type": "execute_result",
     "data": {
      "text/plain": [
       "(4, 5, 6)"
      ]
     },
     "metadata": {},
     "execution_count": 90
    }
   ],
   "source": [
    "tmptuple = (2,3,4,5,6)\n",
    "tmptuple[-3:]"
   ]
  },
  {
   "cell_type": "code",
   "execution_count": 94,
   "metadata": {},
   "outputs": [
    {
     "output_type": "execute_result",
     "data": {
      "text/plain": [
       "[4, 3, 2, 0, 1]"
      ]
     },
     "metadata": {},
     "execution_count": 94
    }
   ],
   "source": [
    "permuted_dims = (3,4,2,1,0)\n",
    "unpermuted_dims = list(permuted_dims)\n",
    "for i, d in enumerate(permuted_dims):\n",
    "    unpermuted_dims[d] = i\n",
    "unpermuted_dims"
   ]
  },
  {
   "cell_type": "code",
   "execution_count": 99,
   "metadata": {},
   "outputs": [
    {
     "output_type": "execute_result",
     "data": {
      "text/plain": [
       "[0, 1, 4, 3, 2]"
      ]
     },
     "metadata": {},
     "execution_count": 99
    }
   ],
   "source": [
    "dim = (-2,2)\n",
    "dd = [(d+ndim)%ndim for d in dim]\n",
    "ndim = 5\n",
    "permute_dims = []\n",
    "for d in range(ndim):\n",
    "    if d not in dd:\n",
    "        permute_dims.append(d)\n",
    "for d in dd:\n",
    "    permute_dims.append((d+ndim)%ndim)\n",
    "permute_dims"
   ]
  },
  {
   "cell_type": "code",
   "execution_count": 7,
   "metadata": {},
   "outputs": [],
   "source": [
    "def get_fft_permute_dims(ndim: int, transform_dim: Tuple[int,...]) -> Tuple[Tuple[int,...],Tuple[int,...]]:\n",
    "    \"\"\"\n",
    "    Helper function for determiming permute dimensions for FFT/IFFT.\n",
    "    \n",
    "    Returns permutation orders needed for moving the transform dimensions `transform_dim` to the highest dimensions and back.\n",
    "\n",
    "    :param ndim: total number of dimensions\n",
    "    :param transform_dim: dimensions to transform\n",
    "    :return permute_dim,unpermute_dim: tuples needed to permute and unpermute\n",
    "\n",
    "    \"\"\"\n",
    "    dd = [d%ndim for d in transform_dim]\n",
    "    permute_dims = []\n",
    "    for d in range(ndim):\n",
    "        if d not in dd:\n",
    "            permute_dims.append(d)\n",
    "    for d in dd:\n",
    "        permute_dims.append(d%ndim)\n",
    "\n",
    "    permute_dims = tuple(permute_dims)\n",
    "\n",
    "    unpermute_dims = [0 for _ in range(ndim)]\n",
    "    for i, d in enumerate(permute_dims):\n",
    "        unpermute_dims[d] = i\n",
    "    unpermute_dims = tuple(unpermute_dims)\n",
    "\n",
    "    return permute_dims,unpermute_dims\n"
   ]
  },
  {
   "cell_type": "code",
   "execution_count": 10,
   "metadata": {},
   "outputs": [
    {
     "output_type": "execute_result",
     "data": {
      "text/plain": [
       "((0, 1, 2, 3, 4), (0, 1, 2, 3, 4))"
      ]
     },
     "metadata": {},
     "execution_count": 10
    }
   ],
   "source": [
    "get_fft_permute_dims(5, (3,4))"
   ]
  },
  {
   "cell_type": "code",
   "execution_count": 119,
   "metadata": {},
   "outputs": [
    {
     "output_type": "execute_result",
     "data": {
      "text/plain": [
       "0"
      ]
     },
     "metadata": {},
     "execution_count": 119
    }
   ],
   "source": [
    "0%5"
   ]
  },
  {
   "cell_type": "code",
   "execution_count": null,
   "metadata": {},
   "outputs": [],
   "source": []
  }
 ]
}